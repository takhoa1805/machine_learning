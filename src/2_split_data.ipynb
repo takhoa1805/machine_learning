{
 "cells": [
  {
   "cell_type": "markdown",
   "id": "4e16759d",
   "metadata": {},
   "source": [
    "SPLITTING DATA FOR K-FOLD CROSS VALIDATION METHOD"
   ]
  },
  {
   "cell_type": "code",
   "execution_count": 2,
   "id": "cf0ae2d8",
   "metadata": {},
   "outputs": [],
   "source": [
    "import os\n",
    "import pandas as pd\n",
    "from sklearn.model_selection import KFold\n"
   ]
  },
  {
   "cell_type": "code",
   "execution_count": 3,
   "id": "1c6b9598",
   "metadata": {},
   "outputs": [
    {
     "name": "stdout",
     "output_type": "stream",
     "text": [
      "Fold 1:\n",
      "  Training rows: 22320\n",
      "  Testing rows: 5580\n",
      "  Saved: train_fold1_preprocessed_student_depression.csv and test_fold1_preprocessed_student_depression.csv\n",
      "Fold 2:\n",
      "  Training rows: 22320\n",
      "  Testing rows: 5580\n",
      "  Saved: train_fold2_preprocessed_student_depression.csv and test_fold2_preprocessed_student_depression.csv\n",
      "Fold 3:\n",
      "  Training rows: 22320\n",
      "  Testing rows: 5580\n",
      "  Saved: train_fold3_preprocessed_student_depression.csv and test_fold3_preprocessed_student_depression.csv\n",
      "Fold 4:\n",
      "  Training rows: 22320\n",
      "  Testing rows: 5580\n",
      "  Saved: train_fold4_preprocessed_student_depression.csv and test_fold4_preprocessed_student_depression.csv\n",
      "Fold 5:\n",
      "  Training rows: 22320\n",
      "  Testing rows: 5580\n",
      "  Saved: train_fold5_preprocessed_student_depression.csv and test_fold5_preprocessed_student_depression.csv\n"
     ]
    }
   ],
   "source": [
    "\n",
    "\n",
    "def kfold_split_and_save_dataset(filepath, n_splits=5, random_state=42, shuffle=True):\n",
    "    # Extract filename without path\n",
    "    filename = os.path.basename(filepath)\n",
    "    \n",
    "    # Read the dataset\n",
    "    df = pd.read_csv(filepath)\n",
    "\n",
    "    # Prepare KFold\n",
    "    kf = KFold(n_splits=n_splits, shuffle=shuffle, random_state=random_state)\n",
    "\n",
    "    for fold, (train_index, test_index) in enumerate(kf.split(df), start=1):\n",
    "        train_df = df.iloc[train_index]\n",
    "        test_df = df.iloc[test_index]\n",
    "        \n",
    "        print(f\"Fold {fold}:\")\n",
    "        print(f\"  Training rows: {len(train_df)}\")\n",
    "        print(f\"  Testing rows: {len(test_df)}\")\n",
    "        \n",
    "        # Define output directories\n",
    "        train_dir = os.path.join(\"..\", \"datasets\", \"train\")\n",
    "        test_dir = os.path.join(\"..\", \"datasets\", \"test\")\n",
    "        \n",
    "        # Create directories if they don't exist\n",
    "        os.makedirs(train_dir, exist_ok=True)\n",
    "        os.makedirs(test_dir, exist_ok=True)\n",
    "        \n",
    "        # Define filenames with fold number\n",
    "        train_file = f\"train_fold{fold}_{filename}\"\n",
    "        test_file = f\"test_fold{fold}_{filename}\"\n",
    "        \n",
    "        # Save to CSV\n",
    "        train_df.to_csv(os.path.join(train_dir, train_file), index=False)\n",
    "        test_df.to_csv(os.path.join(test_dir, test_file), index=False)\n",
    "\n",
    "        print(f\"  Saved: {train_file} and {test_file}\")\n",
    "\n",
    "# Example usage\n",
    "kfold_split_and_save_dataset(\"../datasets/preprocessed_student_depression.csv\", n_splits=5)\n"
   ]
  }
 ],
 "metadata": {
  "kernelspec": {
   "display_name": "machine_learning_assignment",
   "language": "python",
   "name": "python3"
  },
  "language_info": {
   "codemirror_mode": {
    "name": "ipython",
    "version": 3
   },
   "file_extension": ".py",
   "mimetype": "text/x-python",
   "name": "python",
   "nbconvert_exporter": "python",
   "pygments_lexer": "ipython3",
   "version": "3.11.5"
  }
 },
 "nbformat": 4,
 "nbformat_minor": 5
}
